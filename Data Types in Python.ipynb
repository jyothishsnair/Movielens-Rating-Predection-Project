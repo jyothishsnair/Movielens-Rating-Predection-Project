{
 "cells": [
  {
   "cell_type": "markdown",
   "id": "bcc60e3c-5a56-47d2-bac8-1cda84df6249",
   "metadata": {},
   "source": [
    "## Data Types In Python"
   ]
  },
  {
   "cell_type": "markdown",
   "id": "92a5f465-6076-4530-becf-d0b15880ac0f",
   "metadata": {},
   "source": [
    "Data types are impotant in all programming language.\n",
    "\n",
    "Variables in the programme have the ability to hold or store different types of data, and each data type has a different role to perform.\n",
    "\n",
    "In python also have differnent built-in data type:\n",
    "\n",
    "-> Numeric\n",
    "\n",
    "-> Set\n",
    "\n",
    "-> Dictionary\n",
    "\n",
    "-> Boolean\n",
    "\n",
    "-> Sequence Type\n",
    " "
   ]
  },
  {
   "cell_type": "markdown",
   "id": "e0395cba-d44a-4bc3-93a9-a4ebbfbe4ac6",
   "metadata": {},
   "source": [
    "## Numeric"
   ]
  },
  {
   "cell_type": "markdown",
   "id": "8ce11826-940f-4885-8d5c-39d44be05e04",
   "metadata": {},
   "source": [
    "Numeric data tyep contain numeric value which can be float,integer, or complex number that can be repesent as below:"
   ]
  },
  {
   "cell_type": "code",
   "execution_count": 2,
   "id": "15964698-a2f1-49bb-8437-f459ced82157",
   "metadata": {},
   "outputs": [
    {
     "name": "stdout",
     "output_type": "stream",
     "text": [
      "Integer Data type is defined as <class 'int'>\n"
     ]
    }
   ],
   "source": [
    "Integer=10\n",
    "\n",
    "print(\"Integer Data type is defined as\",type(Integer))"
   ]
  },
  {
   "cell_type": "code",
   "execution_count": 3,
   "id": "80a730ad-fdd9-4566-888e-9c5869095682",
   "metadata": {},
   "outputs": [
    {
     "name": "stdout",
     "output_type": "stream",
     "text": [
      "Float Data type is defined as <class 'float'>\n"
     ]
    }
   ],
   "source": [
    "Float = 12.456\n",
    "\n",
    "print(\"Float Data type is defined as\",type(Float))"
   ]
  },
  {
   "cell_type": "code",
   "execution_count": 4,
   "id": "05accd66-a963-45a4-ba37-8da879bb12ea",
   "metadata": {},
   "outputs": [
    {
     "name": "stdout",
     "output_type": "stream",
     "text": [
      "Complex Data type is defined as <class 'complex'>\n"
     ]
    }
   ],
   "source": [
    "Complex = 2+4j\n",
    "\n",
    "print(\"Complex Data type is defined as\",type(Complex))"
   ]
  },
  {
   "cell_type": "markdown",
   "id": "14ba3fc5-4643-46f0-b887-a57610de568c",
   "metadata": {},
   "source": [
    "## Set"
   ]
  },
  {
   "cell_type": "markdown",
   "id": "7eb6effe-c783-49bf-9248-8acb4d8bf640",
   "metadata": {},
   "source": [
    "Set is an unoredered collection of data type which can be iterable,mutable and no duplicate element.\n"
   ]
  },
  {
   "cell_type": "code",
   "execution_count": 15,
   "id": "be53b503-7a39-4795-8ee8-06c5ef4124be",
   "metadata": {},
   "outputs": [
    {
     "name": "stdout",
     "output_type": "stream",
     "text": [
      "Set Data type is defined as <class 'set'>\n"
     ]
    }
   ],
   "source": [
    "Set={2,4,5,6,6,7,8,9,9,9,99,90}\n",
    "\n",
    "Set \n",
    "\n",
    "print(\"Set Data type is defined as\",type(Set))"
   ]
  },
  {
   "cell_type": "markdown",
   "id": "f474e137-0458-42b3-93bd-20bd2d023432",
   "metadata": {},
   "source": [
    "## Dictionary"
   ]
  },
  {
   "cell_type": "markdown",
   "id": "380f4201-b412-41af-83e3-8fff7ba8605f",
   "metadata": {},
   "source": [
    "Dictionary is an unoredered collection of data type which has key-value pairs\n",
    "\n",
    "Dictionary is reperesnt by {}\n",
    "\n"
   ]
  },
  {
   "cell_type": "code",
   "execution_count": 19,
   "id": "fd861aaa-1a44-478e-9fae-5dc14171f5a6",
   "metadata": {},
   "outputs": [
    {
     "name": "stdout",
     "output_type": "stream",
     "text": [
      "Dictionary Data type is defined as <class 'dict'>\n"
     ]
    }
   ],
   "source": [
    "Dictionary = {\"Name\":\"xyz\",\"Email\":\"xyz@gamil.com\",\"Age\": 25}\n",
    "\n",
    "print(\"Dictionary Data type is defined as\",type(Dictionary))"
   ]
  },
  {
   "cell_type": "markdown",
   "id": "6c5ac4c5-3f03-4515-bf17-e364c17d81fb",
   "metadata": {},
   "source": [
    "## Boolean"
   ]
  },
  {
   "cell_type": "markdown",
   "id": "ae3aa3cd-caf9-4964-b0ac-f54bcfbc4400",
   "metadata": {},
   "source": [
    "Boolean data type represent two values either TRUE or FALSE.\n",
    "\n",
    "bool() is the function allow to evaluate the value"
   ]
  },
  {
   "cell_type": "code",
   "execution_count": 20,
   "id": "583e8a0b-4e8a-4bc3-aaaf-a0b4bb7e6c7c",
   "metadata": {},
   "outputs": [
    {
     "name": "stdout",
     "output_type": "stream",
     "text": [
      "Boolean Data type is defined as <class 'bool'>\n"
     ]
    }
   ],
   "source": [
    "Boolean=True\n",
    "print(\"Boolean Data type is defined as\",type(Boolean))"
   ]
  },
  {
   "cell_type": "markdown",
   "id": "cde62c84-318c-4aff-93e3-2b4928c9525c",
   "metadata": {},
   "source": [
    "## Sequence Data Type"
   ]
  },
  {
   "cell_type": "markdown",
   "id": "be7c94c5-7033-4aba-8214-14b4ae3cc272",
   "metadata": {},
   "source": [
    "Sequence Data type consists of String,List and Tuple"
   ]
  },
  {
   "cell_type": "markdown",
   "id": "52b5d3bc-da4e-4212-86b8-b6e386976d05",
   "metadata": {},
   "source": [
    "### String"
   ]
  },
  {
   "cell_type": "markdown",
   "id": "db71d6ee-61b2-4c7e-9133-f2fd1ee8be5e",
   "metadata": {},
   "source": [
    "String is a set of character repersent in the quotation mark."
   ]
  },
  {
   "cell_type": "code",
   "execution_count": 22,
   "id": "49509160-7bd7-4f1a-9b48-768517015181",
   "metadata": {},
   "outputs": [
    {
     "name": "stdout",
     "output_type": "stream",
     "text": [
      "String Data type is defined as <class 'str'>\n"
     ]
    }
   ],
   "source": [
    "String= \"PYTHON\"\n",
    "\n",
    "print(\"String Data type is defined as\",type(String))"
   ]
  },
  {
   "cell_type": "markdown",
   "id": "1c3fd2a2-2eb5-47b6-8f4b-5a412331bdea",
   "metadata": {},
   "source": [
    "### List"
   ]
  },
  {
   "cell_type": "markdown",
   "id": "8db13b6c-1a1a-4fdb-bed4-2232206cab3b",
   "metadata": {},
   "source": [
    "List can hold different data type in a single variiable. It is the nost versatile data type."
   ]
  },
  {
   "cell_type": "code",
   "execution_count": 24,
   "id": "b822f8a6-0c30-437e-a0d1-ae2d29a0cc98",
   "metadata": {},
   "outputs": [
    {
     "name": "stdout",
     "output_type": "stream",
     "text": [
      "List Data type is defined as <class 'list'>\n"
     ]
    }
   ],
   "source": [
    "List = ['PYTHON',5,6.7,{'A':2,'B':7}]\n",
    "print(\"List Data type is defined as\",type(List))"
   ]
  },
  {
   "cell_type": "markdown",
   "id": "d1cefdce-fe61-4411-ae82-f2e568ad28f6",
   "metadata": {},
   "source": [
    "### Tuple"
   ]
  },
  {
   "cell_type": "markdown",
   "id": "292849b1-4377-4c3f-b2ad-620a9d7cc27b",
   "metadata": {},
   "source": [
    "Tuple ia also similar data type as list. Tuple are enclosed within the parentheses.\n"
   ]
  },
  {
   "cell_type": "code",
   "execution_count": 25,
   "id": "c54233c7-8bd9-4e30-b662-29be6860cee5",
   "metadata": {},
   "outputs": [
    {
     "name": "stdout",
     "output_type": "stream",
     "text": [
      "Tupel  Data type is defined as <class 'tuple'>\n"
     ]
    }
   ],
   "source": [
    "Tuple= ('PYTHON',5,6.7,{'A':2,'B':7})\n",
    "print(\"Tupel  Data type is defined as\",type(Tuple))"
   ]
  },
  {
   "cell_type": "code",
   "execution_count": null,
   "id": "c1f28a1d-4da0-44ac-b84f-5140b1aba465",
   "metadata": {},
   "outputs": [],
   "source": []
  }
 ],
 "metadata": {
  "kernelspec": {
   "display_name": "Python 3 (ipykernel)",
   "language": "python",
   "name": "python3"
  },
  "language_info": {
   "codemirror_mode": {
    "name": "ipython",
    "version": 3
   },
   "file_extension": ".py",
   "mimetype": "text/x-python",
   "name": "python",
   "nbconvert_exporter": "python",
   "pygments_lexer": "ipython3",
   "version": "3.10.8"
  }
 },
 "nbformat": 4,
 "nbformat_minor": 5
}
